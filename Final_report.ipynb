{
 "metadata": {
  "language_info": {
   "codemirror_mode": {
    "name": "ipython",
    "version": 3
   },
   "file_extension": ".py",
   "mimetype": "text/x-python",
   "name": "python",
   "nbconvert_exporter": "python",
   "pygments_lexer": "ipython3",
   "version": "3.7.6-final"
  },
  "orig_nbformat": 2,
  "kernelspec": {
   "name": "python_defaultSpec_1600755445549",
   "display_name": "Python 3.7.6 64-bit ('base': conda)"
  }
 },
 "nbformat": 4,
 "nbformat_minor": 2,
 "cells": [
  {
   "cell_type": "markdown",
   "metadata": {},
   "source": [
    "# Final Report: Capstone Project - Car accident severity\n",
    "\n",
    "### Bibhash Chandra Mitra"
   ]
  },
  {
   "cell_type": "markdown",
   "metadata": {},
   "source": [
    "## 1. Introduction\n",
    "\n",
    "There are many factors which play a role in any type of accident. We cannot pin point a single reason behind the severity of an accident. But out of all those factors there are some which can be tracked and are definite in nature. For example, the weather condition, light condition, type of sidewalk etc are some of the factors which are deterministic. Other factors like number of pedestrians, speeding etc are not deterministic without a high speed camera so we won't mention them. So can we say that using these factors we can answer questions like: **What is the probability of an accident occuring on a rainy day at an Intersection?**\n",
    "\n",
    "I believe we can answer these type of questions and hence the purpose of this project is to devise a solution for the prediction of severe car accidents based on the different conditions which can be effectively tracked. "
   ]
  },
  {
   "cell_type": "markdown",
   "metadata": {},
   "source": [
    "## 2. Data\n",
    "\n",
    "For this project I have used the [**Seattle transit Collision dataset**](https://data-seattlecitygis.opendata.arcgis.com/datasets/collisions?geometry=-123.637%2C47.452%2C-121.024%2C47.776)\n",
    "\n",
    "This dataset contains all the type of collisions from 2004 to present. There are 38 columns in this dataset, out of those we will use the following:\n",
    "- JUNCTIONTYPE : Category of junction at which collision took place\n",
    "- WEATHER      : A description of the weather conditions during the time of the collision.\n",
    "- ROADCOND     : The condition of the road during the collision\n",
    "- LIGHTCOND    : The light conditions during the collision.\n",
    "- INCDTTM      : The date and time (From which we can get information on the month and time of the day)\n",
    "- X            : Longitude of the location\n",
    "- Y            : Latitude of the location\n",
    "- ADDRTYPE     : Collision address type:•Alley •Block •Intersection\n",
    "- SEVERITYCODE : A code that corresponds to the severity of the collision: •3—fatality •2b—serious injury •2—injury •1—prop damage •0—unknown"
   ]
  },
  {
   "cell_type": "code",
   "execution_count": null,
   "metadata": {},
   "outputs": [],
   "source": []
  }
 ]
}